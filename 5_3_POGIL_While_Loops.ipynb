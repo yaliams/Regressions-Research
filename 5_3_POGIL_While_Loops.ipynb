{
  "nbformat": 4,
  "nbformat_minor": 0,
  "metadata": {
    "colab": {
      "provenance": [],
      "include_colab_link": true
    },
    "kernelspec": {
      "name": "python3",
      "display_name": "Python 3"
    }
  },
  "cells": [
    {
      "cell_type": "markdown",
      "metadata": {
        "id": "view-in-github",
        "colab_type": "text"
      },
      "source": [
        "<a href=\"https://colab.research.google.com/github/yaliams/Regressions-Research/blob/main/5_3_POGIL_While_Loops.ipynb\" target=\"_parent\"><img src=\"https://colab.research.google.com/assets/colab-badge.svg\" alt=\"Open In Colab\"/></a>"
      ]
    },
    {
      "cell_type": "markdown",
      "metadata": {
        "id": "MvkSd7vQZlWZ"
      },
      "source": [
        "# POGIL While Loops\n",
        "\n",
        "**Students will be able to..**\n",
        "- Explain the syntax of a while loop\n",
        "- Explain sentinel-controlled and counter controlled loops\n",
        "- Write code that uses the concepts above\n"
      ]
    },
    {
      "cell_type": "markdown",
      "metadata": {
        "id": "nnCGKaYuZzoT"
      },
      "source": [
        "## Problem 1"
      ]
    },
    {
      "cell_type": "code",
      "metadata": {
        "id": "21VQQuJHZg6u"
      },
      "source": [
        "name = input(\"Enter your name: \")\n",
        "x = 0\n",
        "\n",
        "while x < 6:\n",
        "  print(name)\n",
        "  x = x + 1"
      ],
      "execution_count": null,
      "outputs": []
    },
    {
      "cell_type": "markdown",
      "metadata": {
        "id": "exZEEa2bZ-9E"
      },
      "source": [
        "- What does the line of code `x = x + 1` do?\n",
        "The line x = x + 1 increments the value of x by 1 on each iteration of the loop. Python determines the loop body based on indentation: both the print(name) and x = x + 1 lines are part of the loop because they are indented under the while statement.\n",
        "\n",
        "\n",
        "\n",
        "\n",
        "\n",
        "\n",
        "- How does the Python interpreter know what lines of code belong to the loop body?\n",
        "The Python interpreter identifies the loop body by looking for lines of code that are indented under the while statement; in this case, print(name) and x = x + 1 are part of the loop body.\n",
        "\n",
        "\n",
        "\n",
        "\n",
        "\n",
        "\n"
      ]
    },
    {
      "cell_type": "markdown",
      "metadata": {
        "id": "uz-gFl3SapQg"
      },
      "source": [
        "## Problem 2"
      ]
    },
    {
      "cell_type": "code",
      "metadata": {
        "id": "XMwStP8WaRpZ"
      },
      "source": [
        "number = int(input(\"Enter a number between 5 and 15: \"))\n",
        "x = 1\n",
        "\n",
        "while x <= number:\n",
        "  if x % 3 == 0:\n",
        "    print(x, \" is divisible by 3\")\n",
        "  else:\n",
        "    print(x, \" is not divisible by 3\")\n",
        "  x = x + 1"
      ],
      "execution_count": null,
      "outputs": []
    },
    {
      "cell_type": "markdown",
      "metadata": {
        "id": "AgY14tm0avxI"
      },
      "source": [
        "## Problem 3\n",
        "\n",
        "The following code should print the numbers from 1 to 10, but it does not print anything. Correct the problem..."
      ]
    },
    {
      "cell_type": "code",
      "metadata": {
        "id": "Z2q1p5YtaxTY",
        "outputId": "9e519f34-0f9b-473b-fe69-a9d0e141d3ce",
        "colab": {
          "base_uri": "https://localhost:8080/",
          "height": 0
        }
      },
      "source": [
        "number = 1\n",
        "while number <= 10:\n",
        "  print(number)\n",
        "  number = number + 1\n"
      ],
      "execution_count": 1,
      "outputs": [
        {
          "output_type": "stream",
          "name": "stdout",
          "text": [
            "1\n",
            "2\n",
            "3\n",
            "4\n",
            "5\n",
            "6\n",
            "7\n",
            "8\n",
            "9\n",
            "10\n"
          ]
        }
      ]
    },
    {
      "cell_type": "markdown",
      "metadata": {
        "id": "L5eqOayya46q"
      },
      "source": [
        "## Problem 4\n",
        "\n",
        "The following code creates an infinite loop. Why? The code creates an infinite loop because the number variable is being decremented (number = number - 1) within the loop. This means that number will always be less than or equal to 10, so the condition for the while loop is always true, and the loop never terminates. To fix the loop, you should increment number instead of decrementing it.\n",
        "\n",
        "\n",
        "\n",
        "\n",
        "\n"
      ]
    },
    {
      "cell_type": "code",
      "metadata": {
        "id": "KD76GUCba6CY"
      },
      "source": [
        "number = 0\n",
        "while number <= 10:\n",
        "  print(number)\n",
        "  number = number - 1"
      ],
      "execution_count": null,
      "outputs": []
    },
    {
      "cell_type": "markdown",
      "metadata": {
        "id": "RdfJoSaWbUpD"
      },
      "source": [
        "## Problem 5\n",
        "\n",
        "Execute the following code..."
      ]
    },
    {
      "cell_type": "code",
      "metadata": {
        "id": "ZIDEkOiYbWq9"
      },
      "source": [
        "number = 1\n",
        "\n",
        "while number <= 10:\n",
        "  if number % 2 == 0:\n",
        "    print(number, end=' ')\n",
        "  number += 1"
      ],
      "execution_count": null,
      "outputs": []
    },
    {
      "cell_type": "markdown",
      "metadata": {
        "id": "hG1vuyNFbjFW"
      },
      "source": [
        "* What caused the output to display on one line?  \n",
        "The output displays on one line because the print function is called with the argument end=' ', which specifies a space instead of the default newline character after each printed number.\n",
        "\n",
        "\n",
        "\n",
        "* Why didn't the odd numbers print?\n",
        "The odd numbers didn't print because the if statement checks if number is even (number % 2 == 0), and it only executes the print function when this condition is true.\n",
        "\n",
        "\n",
        "\n",
        "\n",
        "\n",
        "\n"
      ]
    },
    {
      "cell_type": "markdown",
      "metadata": {
        "id": "OxpRa_jxwuKR"
      },
      "source": [
        "## Problem 6: Count-Controlled Loop\n",
        "\n",
        "The following directions will create a program that prompts the user to enter a number between 1 and 10. As long as the number is out of range the program re-prompts the user for a valid number. Complete the following steps to write this code.\n",
        "\n",
        "- Write a line of code that prompts the user for a number between 1 and 10.\n",
        "\n",
        "- Write a Boolean expression that tests the number the user entered by the code in step “a.” to determine if it is not in range.\n",
        "\n",
        "- Use the Boolean expression created in step “b.” to write a while loop that executes when the user input is out of range. The body of the loop should tell the user that they entered an invalid number and prompt them for a valid number again. Also tell the user what number was entered.\n",
        "\n",
        "- Write the code that prints a message telling the user that they entered a valid number. Also tell the user what number was entered.\n",
        "\n"
      ]
    },
    {
      "cell_type": "code",
      "metadata": {
        "id": "RPmbvNCGxBZF"
      },
      "source": [
        "# Put your code for problem 6 in here...\n",
        "# Step a: Prompt the user for a number between 1 and 10.\n",
        "number = int(input(\"Enter a number between 1 and 10: \"))\n",
        "\n",
        "# Step b: Boolean expression to test if the number is not in range.\n",
        "number_out_of_range = number < 1 or number > 10\n",
        "\n",
        "# Step c: While loop that executes when the user input is out of range.\n",
        "while number_out_of_range:\n",
        "    print(f\"The number {number} is invalid.\")\n",
        "    number = int(input(\"Please enter a valid number between 1 and 10: \"))\n",
        "    number_out_of_range = number < 1 or number > 10\n",
        "\n",
        "# Step d: Code that prints a message telling the user they entered a valid number.\n",
        "print(f\"You have entered a valid number: {number}.\")\n",
        "\n",
        "\n",
        "\n"
      ],
      "execution_count": null,
      "outputs": []
    },
    {
      "cell_type": "markdown",
      "metadata": {
        "id": "atbU8xnXxDyX"
      },
      "source": [
        "\n",
        "\n",
        "```\n",
        "# This is formatted as code\n",
        "```\n",
        "\n",
        "\n",
        "\n",
        "---\n",
        "\n",
        "A **looping** structure for which you know the number of times it will execute each time is called a _count-controlled_ loop\n",
        "\n",
        "---\n",
        "\n"
      ]
    },
    {
      "cell_type": "markdown",
      "metadata": {
        "id": "tAF8VXiQxQ3R"
      },
      "source": [
        "## Problem 7\n",
        "The following code should print the numbers beginning with 20 and ending with 0.  \n",
        "\n",
        "*   Comment on what would happen if this code was run. Would it work?\n",
        "*   Fix the code so that the code prints numbers beginning with 20 and ending with 0.  Check that both 20 and 0 are printed."
      ]
    },
    {
      "cell_type": "code",
      "metadata": {
        "id": "oMKrjE3XxckX"
      },
      "source": [
        "countdown = 20\n",
        "\n",
        "while countdown >= 0:\n",
        "  print(countdown)\n",
        "  countdown -= 1  # Decrement countdown by 1\n",
        "print(\"Done!\")\n"
      ],
      "execution_count": null,
      "outputs": []
    },
    {
      "cell_type": "markdown",
      "metadata": {
        "id": "Lguiux0txyG-"
      },
      "source": [
        "## Problem 8: Sentinel Control Loop\n",
        "Execute the following code:"
      ]
    },
    {
      "cell_type": "code",
      "metadata": {
        "id": "JD_-VDREx2gZ"
      },
      "source": [
        "do_again = \"y\"\n",
        "\n",
        "while do_again == \"y\":\n",
        "  word = input(\"Enter a word: \")\n",
        "  print(\"First letter of \" + word + \" is \" + word[0])\n",
        "  do_again = input(\"Type 'y' to enter another word and anything else to quit\")\n",
        "\n",
        "print(\"Done!\")"
      ],
      "execution_count": null,
      "outputs": []
    },
    {
      "cell_type": "markdown",
      "metadata": {
        "id": "AS-wmC5hyRdA"
      },
      "source": [
        "- What does the program do?\n",
        "The program repeatedly prompts the user to enter a word, then prints out the first letter of that word. It will continue to do this as long as the user types 'y' after entering a word.\n",
        "\n",
        "\n",
        "\n",
        "- What is the variable name used to store the user's input?\n",
        "The variable name used to store the user's input for the word is word.\n",
        "\n",
        "- In the print statement, what does `word[0]` represent?\n",
        "In the print statement, word[0] represents the first character (letter) of the string stored in the variable word.\n",
        "\n",
        "\n",
        "- When does the program end?\n",
        "The program ends when the user inputs anything other than 'y' after being prompted with \"Type 'y' to enter another word and anything else to quit\".\n"
      ]
    },
    {
      "cell_type": "markdown",
      "metadata": {
        "id": "kO7NngjDycal"
      },
      "source": [
        "\n",
        "\n",
        "---\n",
        "\n",
        "A **sentinel-controlled while loop** is a loop that repeats the loop body until the user enters a pre-specified value.\n",
        "\n",
        "---\n",
        "\n"
      ]
    },
    {
      "cell_type": "markdown",
      "metadata": {
        "id": "zmj-xE2IyrlQ"
      },
      "source": [
        "## Problem 9: Buggy Input\n",
        "\n",
        "The program below is supposed to meet the following goals: Repeatedly ask the user to input a number. If the number is greater than 2, return whether it is prime number. If the number is 0, stop the program. If the number is any other number, ask the user to input a new number\n",
        "\n",
        "A correct program should run like this:\n",
        "```\n",
        "Enter a number greater than 2 (or 0 to exit): 1\n",
        "Enter a number greater than 2 (or 0 to exit): 2\n",
        "Enter a number greater than 2 (or 0 to exit): 3\n",
        "3 is prime\n",
        "Enter a number greater than 2 (or 0 to exit): 4\n",
        "4 is NOT Prime\n",
        "Enter a number greater than 2 (or 0 to exit): 5\n",
        "5 is prime\n",
        "Enter a number greater than 2 (or 0 to exit): 9\n",
        "9 is NOT Prime\n",
        "Enter a number greater than 2 (or 0 to exit): 0\n",
        "GOODBYE!\n",
        "```\n",
        "\n",
        "**BEFORE YOU RUN THE CODE BELOW**... there are many minor errors scattered throughout it. See how many you can find and fix _before_ running the code. Keep correcting the code until you have it fixed\n",
        "\n"
      ]
    },
    {
      "cell_type": "code",
      "metadata": {
        "id": "BTai2oWZzSd5"
      },
      "source": [
        "def enter_prime():\n",
        "    a = int(input(\"Enter a number greater than 2 (or 0 to exit): \"))\n",
        "\n",
        "    while a != 0:\n",
        "        if a > 2:\n",
        "            if check_for_prime(a):\n",
        "                print(str(a) + \" is prime\")\n",
        "            else:\n",
        "                print(str(a) + \" is NOT Prime\")\n",
        "        else:\n",
        "            a = int(input(\"Enter a number greater than 2 (or 0 to exit): \"))\n",
        "    print(\"GOODBYE!\")\n",
        "\n",
        "def check_for_prime(a):\n",
        "    # If any integers from 2 to our number divide evenly, it's not prime.\n",
        "    for num in range(2, a):\n",
        "        if a % num == 0:\n",
        "            return False\n",
        "    return True\n",
        "\n",
        "enter_prime()\n"
      ],
      "execution_count": null,
      "outputs": []
    },
    {
      "cell_type": "markdown",
      "metadata": {
        "id": "trcZWxZ2XSjO"
      },
      "source": [
        "## ALL KINDS OF LOOPS\n",
        "\n",
        "The following problems will need loops.... but the loops that you choose are completely up to you.\n",
        "\n",
        "Suppose that you are given the following string...\n",
        "\n",
        "`s = 'gattacaaggtaaaatgca'`\n",
        "\n",
        "- How could you write code to find the number of 'a's ?\n",
        "\n",
        "\n",
        "\n",
        "\n"
      ]
    },
    {
      "cell_type": "code",
      "metadata": {
        "id": "ChJ2Aut3Y2rC"
      },
      "source": [
        "s = 'gattacaaggtaaaatgca'\n",
        "\n",
        "# finding the number of a\n",
        "s = 'gattacaaggtaaaatgca'\n",
        "count_a = 0\n",
        "\n",
        "for char in s:\n",
        "    if char == 'a':\n",
        "        count_a += 1\n",
        "\n",
        "print(\"The number of 'a's in the string:\", count_a)\n"
      ],
      "execution_count": null,
      "outputs": []
    },
    {
      "cell_type": "markdown",
      "metadata": {
        "id": "bvTFEl9lZB2E"
      },
      "source": [
        "- How about the number of 'a's and 't's?"
      ]
    },
    {
      "cell_type": "code",
      "metadata": {
        "id": "CQESmIsWY9xS"
      },
      "source": [
        "s = 'gattacaaggtaaaatgca'\n",
        "\n",
        "count_a = 0\n",
        "count_t = 0\n",
        "\n",
        "for char in s:\n",
        "    if char == 'a':\n",
        "        count_a += 1\n",
        "    elif char == 't':\n",
        "        count_t += 1\n",
        "\n",
        "print(\"The number of 'a's:\", count_a)\n",
        "print(\"The number of 't's:\", count_t)\n"
      ],
      "execution_count": null,
      "outputs": []
    },
    {
      "cell_type": "markdown",
      "metadata": {
        "id": "xy1S3_KMZOXE"
      },
      "source": [
        "- How could we find the number of 'ta's?\n",
        "\n"
      ]
    },
    {
      "cell_type": "code",
      "metadata": {
        "id": "YrYTPPQgZARe"
      },
      "source": [
        "s = 'gattacaaggtaaaatgca'\n",
        "count_ta = s.count('ta')\n",
        "print(count_ta)\n",
        "\n",
        "# finding the number of tas"
      ],
      "execution_count": null,
      "outputs": []
    },
    {
      "cell_type": "markdown",
      "metadata": {
        "id": "6w7ZFmJWZRoP"
      },
      "source": [
        "[link text](https://)- How could we find the longest sequence of 'a's?"
      ]
    },
    {
      "cell_type": "code",
      "metadata": {
        "id": "tFNWtZHfY-3H"
      },
      "source": [
        "s = 'gattacaaggtaaaatgca'\n",
        "\n",
        "max_seq_length = 0\n",
        "current_seq_length = 0\n",
        "\n",
        "for char in s:\n",
        "    if char == 'a':\n",
        "        current_seq_length += 1\n",
        "        max_seq_length = max(max_seq_length, current_seq_length)\n",
        "    else:\n",
        "        current_seq_length = 0\n",
        "\n",
        "print(max_seq_length)\n"
      ],
      "execution_count": null,
      "outputs": []
    }
  ]
}